{
 "cells": [
  {
   "cell_type": "markdown",
   "id": "b487e520-fb28-442e-bbb7-6cfd6efecb45",
   "metadata": {},
   "source": [
    "## Linear Regression"
   ]
  },
  {
   "cell_type": "markdown",
   "id": "29fec458-7af9-4c10-87db-c0c95173bbeb",
   "metadata": {},
   "source": [
    "## Ols"
   ]
  },
  {
   "cell_type": "code",
   "execution_count": 59,
   "id": "6bb0b28b-6a64-4126-bb3b-fa4782fca04f",
   "metadata": {},
   "outputs": [],
   "source": [
    "import numpy as np\n",
    "x = np.array([1,3,5,8,10])\n",
    "y = np.array([10,20,30,35,45])"
   ]
  },
  {
   "cell_type": "markdown",
   "id": "566839d1-2061-459b-919e-66b0fd341ca8",
   "metadata": {},
   "source": [
    "### Eq -1"
   ]
  },
  {
   "cell_type": "code",
   "execution_count": 60,
   "id": "32f0b58a-2a6d-4e4d-b915-6c8614591ade",
   "metadata": {},
   "outputs": [],
   "source": [
    "#wo = 0\n",
    "#w1 = 0\n",
    "#y = wo + w1*x"
   ]
  },
  {
   "cell_type": "code",
   "execution_count": 61,
   "id": "e257540c-9663-4f81-8ab6-74abd104f776",
   "metadata": {},
   "outputs": [],
   "source": [
    "x_y_bar = (x*y).mean()\n",
    "x_bar = x.mean()\n",
    "y_bar = y.mean()\n",
    "x_sqr_bar = (x*x).mean()"
   ]
  },
  {
   "cell_type": "code",
   "execution_count": 62,
   "id": "03bcc763-4e26-46d9-bb3b-51900150fd18",
   "metadata": {},
   "outputs": [
    {
     "data": {
      "text/plain": [
       "3.646616541353384"
      ]
     },
     "execution_count": 62,
     "metadata": {},
     "output_type": "execute_result"
    }
   ],
   "source": [
    "w1 = ((x_y_bar) - x_bar*y_bar) / (x_sqr_bar - x_bar*x_bar)\n",
    "w1"
   ]
  },
  {
   "cell_type": "code",
   "execution_count": 63,
   "id": "81734136-7ece-40e8-acd8-624100c1831d",
   "metadata": {},
   "outputs": [
    {
     "data": {
      "text/plain": [
       "8.308270676691723"
      ]
     },
     "execution_count": 63,
     "metadata": {},
     "output_type": "execute_result"
    }
   ],
   "source": [
    "wo = y_bar - (w1*x_bar)\n",
    "wo"
   ]
  },
  {
   "cell_type": "code",
   "execution_count": 64,
   "id": "49063ad8-746c-4deb-b0a9-3d60373e0142",
   "metadata": {},
   "outputs": [],
   "source": [
    "y_hat = wo+(w1*x)"
   ]
  },
  {
   "cell_type": "code",
   "execution_count": 65,
   "id": "a0e18681-bcec-4dd3-9cd1-b5d386e9d8ec",
   "metadata": {},
   "outputs": [
    {
     "data": {
      "text/plain": [
       "array([11.95488722, 19.2481203 , 26.54135338, 37.48120301, 44.77443609])"
      ]
     },
     "execution_count": 65,
     "metadata": {},
     "output_type": "execute_result"
    }
   ],
   "source": [
    "y_hat"
   ]
  },
  {
   "cell_type": "markdown",
   "id": "de1d3500-9afb-4ea7-898b-d4c2e466126f",
   "metadata": {},
   "source": [
    "## Eq - 2"
   ]
  },
  {
   "cell_type": "code",
   "execution_count": 66,
   "id": "99c0e5f1-a5c1-47d6-bc63-e1c0e585e727",
   "metadata": {},
   "outputs": [
    {
     "data": {
      "text/plain": [
       "3.6466165413533833"
      ]
     },
     "execution_count": 66,
     "metadata": {},
     "output_type": "execute_result"
    }
   ],
   "source": [
    "w1 = ((x - x_bar) * (y-y_bar)).sum() / ((x - x_bar) * (x - x_bar)).sum()\n",
    "w1"
   ]
  },
  {
   "cell_type": "code",
   "execution_count": 67,
   "id": "f54d6967-ccab-4eea-a3b9-83cb48b5891d",
   "metadata": {},
   "outputs": [
    {
     "data": {
      "text/plain": [
       "8.30827067669173"
      ]
     },
     "execution_count": 67,
     "metadata": {},
     "output_type": "execute_result"
    }
   ],
   "source": [
    "wo = y_bar - w1*x_bar\n",
    "wo"
   ]
  },
  {
   "cell_type": "markdown",
   "id": "391e0e13-6382-4b45-9044-6c24699fcd8a",
   "metadata": {
    "tags": []
   },
   "source": [
    "### 1. Normal Equation Method\n",
    "\n",
    "θ=(XTX)^−1 XT y"
   ]
  },
  {
   "cell_type": "code",
   "execution_count": 70,
   "id": "c958c34a-d384-4a0a-8081-345e7283f6dc",
   "metadata": {},
   "outputs": [],
   "source": [
    "def predict_sales(x, weight, bias):\n",
    "    return weight*x + bias\n"
   ]
  },
  {
   "cell_type": "code",
   "execution_count": 88,
   "id": "0bfe4ef1-4087-406a-97b1-65f5e426cd2e",
   "metadata": {},
   "outputs": [],
   "source": [
    "import numpy as np\n",
    "X = 2 * np.random.rand(100, 1)\n",
    "y = 4 + 3 * X + np.random.randn(100, 1)\n"
   ]
  },
  {
   "cell_type": "code",
   "execution_count": 89,
   "id": "5e6e726f-14cf-4f0b-adf1-1ae1829202f9",
   "metadata": {},
   "outputs": [
    {
     "data": {
      "text/plain": [
       "(100, 2)"
      ]
     },
     "execution_count": 89,
     "metadata": {},
     "output_type": "execute_result"
    }
   ],
   "source": [
    "X_b = np.c_[np.ones((100, 1)), X]\n",
    "X_b.shape"
   ]
  },
  {
   "cell_type": "code",
   "execution_count": 90,
   "id": "c5312f3f-c1dc-4d10-98d9-f3934b162f33",
   "metadata": {},
   "outputs": [
    {
     "data": {
      "text/plain": [
       "array([[4.04981596],\n",
       "       [2.90628349]])"
      ]
     },
     "execution_count": 90,
     "metadata": {},
     "output_type": "execute_result"
    }
   ],
   "source": [
    "\n",
    "theta_best = np.linalg.inv(X_b.T.dot(X_b)).dot(X_b.T).dot(y)\n",
    "theta_best"
   ]
  },
  {
   "cell_type": "markdown",
   "id": "075b3e7e-4f71-4594-8f19-24b79155f651",
   "metadata": {
    "tags": []
   },
   "source": [
    "### 2. Gradient descent"
   ]
  },
  {
   "cell_type": "markdown",
   "id": "5d0ef4a5-1a89-49c6-9ee9-76167f82244f",
   "metadata": {
    "tags": []
   },
   "source": [
    "### Cost function\n",
    "\n",
    "𝑀𝑆𝐸 =1 / 𝑁 (∑︁ 𝑛 𝑖=1 (𝑦𝑖 − (𝑚𝑥𝑖 + 𝑏))^2)\n",
    "\n",
    "    𝑁 is the total number of observations (data points)\n",
    "\n",
    "* 1 /  𝑁 ∑︀𝑛 𝑖=1 is the mean\n",
    "\n",
    "*  𝑦𝑖 is the actual value of an observation and 𝑚𝑥𝑖 + 𝑏 is our prediction"
   ]
  },
  {
   "cell_type": "code",
   "execution_count": 6,
   "id": "9e514fee-5a81-4703-af80-3f20d4404a10",
   "metadata": {},
   "outputs": [],
   "source": [
    "def cost_function(x, y, weight, bias):\n",
    "    companies = len(x)\n",
    "    total_error = 0.0\n",
    "    for i in range(companies):\n",
    "        total_error += (y[i] - (weight*x[i] + bias))**2\n",
    "    return total_error / companies"
   ]
  },
  {
   "cell_type": "code",
   "execution_count": 7,
   "id": "9e570d3f-ea13-420b-8ad0-f09c68bfb311",
   "metadata": {},
   "outputs": [],
   "source": [
    "def update_weights(radio, sales, weight, bias, learning_rate):\n",
    "    weight_deriv = 0\n",
    "    bias_deriv = 0\n",
    "    companies = len(radio)\n",
    "    for i in range(companies):\n",
    "        # Calculate partial derivatives\n",
    "        # -2x(y - (mx + b))\n",
    "        weight_deriv += -2*radio[i] * (sales[i] - (weight*radio[i] + bias))\n",
    "        # -2(y - (mx + b))\n",
    "        bias_deriv += -2*(sales[i] - (weight*radio[i] + bias))\n",
    "        # We subtract because the derivatives point in direction of steepest ascent\n",
    "        weight -= (weight_deriv / companies) * learning_rate\n",
    "        bias -= (bias_deriv / companies) * learning_rate\n",
    "    return weight, bias"
   ]
  },
  {
   "cell_type": "code",
   "execution_count": null,
   "id": "48fd25bd-b801-4ef6-b16f-767af26f6f1a",
   "metadata": {},
   "outputs": [],
   "source": []
  },
  {
   "cell_type": "code",
   "execution_count": null,
   "id": "5c48d4f3-1dae-4f81-9cf0-652d2643dd80",
   "metadata": {},
   "outputs": [],
   "source": []
  },
  {
   "cell_type": "code",
   "execution_count": null,
   "id": "cea9adcd-8a8f-48c5-bab3-e73acddfa26c",
   "metadata": {},
   "outputs": [],
   "source": []
  },
  {
   "cell_type": "code",
   "execution_count": null,
   "id": "850089a8-c9da-4a0e-b54e-327c6155d03a",
   "metadata": {},
   "outputs": [],
   "source": []
  },
  {
   "cell_type": "code",
   "execution_count": null,
   "id": "ce92c88d-1aaf-4014-8dd1-64408b2f2c2c",
   "metadata": {},
   "outputs": [],
   "source": []
  },
  {
   "cell_type": "code",
   "execution_count": null,
   "id": "65fb565f-4f61-4b03-83bb-32ebee6ea750",
   "metadata": {},
   "outputs": [],
   "source": []
  },
  {
   "cell_type": "code",
   "execution_count": null,
   "id": "7e1df7f9-be10-44cb-ad82-ae2658c76b97",
   "metadata": {},
   "outputs": [],
   "source": []
  },
  {
   "cell_type": "code",
   "execution_count": null,
   "id": "787951a3-54ed-4f77-b8b7-68f8ed65ec07",
   "metadata": {},
   "outputs": [],
   "source": []
  }
 ],
 "metadata": {
  "kernelspec": {
   "display_name": "Python 3 (ipykernel)",
   "language": "python",
   "name": "python3"
  },
  "language_info": {
   "codemirror_mode": {
    "name": "ipython",
    "version": 3
   },
   "file_extension": ".py",
   "mimetype": "text/x-python",
   "name": "python",
   "nbconvert_exporter": "python",
   "pygments_lexer": "ipython3",
   "version": "3.9.18"
  }
 },
 "nbformat": 4,
 "nbformat_minor": 5
}
