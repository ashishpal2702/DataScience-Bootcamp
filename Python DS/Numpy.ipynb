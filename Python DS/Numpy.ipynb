{
 "cells": [
  {
   "cell_type": "code",
   "execution_count": 1,
   "id": "35d61b5e-03e5-4572-b631-6fbe0a1d0df8",
   "metadata": {},
   "outputs": [
    {
     "name": "stdout",
     "output_type": "stream",
     "text": [
      "Requirement already satisfied: numpy in /Users/apal/.pyenv/versions/3.8.8/lib/python3.8/site-packages (1.23.5)\n",
      "\u001b[33mWARNING: You are using pip version 21.3.1; however, version 23.0.1 is available.\n",
      "You should consider upgrading via the '/Users/apal/.pyenv/versions/3.8.8/bin/python3.8 -m pip install --upgrade pip' command.\u001b[0m\n"
     ]
    }
   ],
   "source": [
    "#!pip install numpy"
   ]
  },
  {
   "cell_type": "markdown",
   "id": "3c993f02-1106-4595-9d89-47520e2b8997",
   "metadata": {},
   "source": [
    "***\n",
    "# NUMPY\n",
    "***\n",
    "<font color = #318CE7 size = 3 >\n",
    "\n",
    "> **What is NUMPY ?**\n",
    "\n",
    "__NumPy (short for `Num`erical `Py`thon) is an open source Python library for doing scientific computing with Python.__\n",
    "\n",
    "***\n",
    "\n",
    "> `NumPy is the foundation of the python scientific stack`\n",
    "\n",
    "\n",
    "<font>\n",
    "\n",
    "[NUMPY REFERENCE](http://scipy-lectures.org/intro/numpy/index.html)\n",
    "\n",
    "***"
   ]
  },
  {
   "cell_type": "markdown",
   "id": "17bdd767-ed41-4f8e-b9cf-bd5bd5341d9f",
   "metadata": {},
   "source": [
    "## Import "
   ]
  },
  {
   "cell_type": "code",
   "execution_count": 8,
   "id": "6624a7ad-5f40-4a46-8c51-e51ce9f5ea7b",
   "metadata": {},
   "outputs": [],
   "source": [
    "import numpy as np\n",
    "import random"
   ]
  },
  {
   "cell_type": "markdown",
   "id": "9771a433-b603-41e4-ba7b-1b90ad40c2e1",
   "metadata": {},
   "source": [
    "## Compare Python List vs Numpy array"
   ]
  },
  {
   "cell_type": "code",
   "execution_count": 29,
   "id": "1bf50b8d-c8e3-46e0-9d80-723cc9ffdb20",
   "metadata": {},
   "outputs": [],
   "source": [
    "x_list = [i*random.randint(0,9) for i in range(100000)]"
   ]
  },
  {
   "cell_type": "code",
   "execution_count": 30,
   "id": "85855bfa-900b-4142-9685-7d88edb88e86",
   "metadata": {},
   "outputs": [
    {
     "name": "stdout",
     "output_type": "stream",
     "text": [
      "CPU times: user 25.1 ms, sys: 1.24 ms, total: 26.4 ms\n",
      "Wall time: 26.3 ms\n"
     ]
    }
   ],
   "source": [
    "%%time\n",
    "x_list.sort()"
   ]
  },
  {
   "cell_type": "code",
   "execution_count": 31,
   "id": "5fae7595-8201-460a-97ef-64113f2dc86e",
   "metadata": {},
   "outputs": [],
   "source": [
    "x_np_array = np.array(x_list)"
   ]
  },
  {
   "cell_type": "code",
   "execution_count": 32,
   "id": "268dbfef-8c96-47d6-a69c-6f47eb0264a8",
   "metadata": {},
   "outputs": [
    {
     "name": "stdout",
     "output_type": "stream",
     "text": [
      "CPU times: user 3.17 ms, sys: 1.51 ms, total: 4.68 ms\n",
      "Wall time: 2 ms\n"
     ]
    }
   ],
   "source": [
    "%%time\n",
    "x_np_array.sort()"
   ]
  },
  {
   "cell_type": "code",
   "execution_count": null,
   "id": "b8b43bf7-4b64-4064-a0be-fe8638b3e848",
   "metadata": {},
   "outputs": [],
   "source": []
  },
  {
   "cell_type": "markdown",
   "id": "33e55bbd-1dd3-4fb9-a764-1972c19b3447",
   "metadata": {},
   "source": [
    "## Array creation"
   ]
  },
  {
   "cell_type": "code",
   "execution_count": 34,
   "id": "a8a9a8e0-0da9-412f-aae6-0cbb6f22f779",
   "metadata": {},
   "outputs": [
    {
     "name": "stdout",
     "output_type": "stream",
     "text": [
      "<class 'list'>\n",
      "<class 'numpy.ndarray'>\n"
     ]
    }
   ],
   "source": [
    "#Converting Python sequences to NumPy Arrays\n",
    "\n",
    "a = [1,2,3,4,5,6,7,8,9]\n",
    "print(type(a))\n",
    "np_a = np.array(a)\n",
    "print(type(np_a))"
   ]
  },
  {
   "cell_type": "code",
   "execution_count": null,
   "id": "abd6a812-c357-41a9-a3b8-9f402204071d",
   "metadata": {},
   "outputs": [],
   "source": [
    "# 1d-array\n",
    "import numpy as np\n",
    "\n",
    "my_list = [10.1,   2 , 1]\n",
    "array1d = np.array(my_list)\n",
    "array1d"
   ]
  },
  {
   "cell_type": "code",
   "execution_count": null,
   "id": "5097bebe-9811-4d72-b87c-a4fe6326f404",
   "metadata": {},
   "outputs": [],
   "source": [
    "my_sublist = [\n",
    "    [1.5, 2.5, 3.5, 4],\n",
    "    [4.5, 5.5, 6.5, 1],\n",
    "    [7.5, 8.5, 9.5, 6]\n",
    "] # list of three by four list\n",
    "my_sublist"
   ]
  },
  {
   "cell_type": "code",
   "execution_count": null,
   "id": "bf5c04ca-a298-470a-8e3c-9b92fa00b100",
   "metadata": {},
   "outputs": [],
   "source": [
    "# if I cast the above list into an array : i get output as a 2d-array\n",
    "array2d = np.array(my_sublist)\n",
    "array2d"
   ]
  },
  {
   "cell_type": "code",
   "execution_count": null,
   "id": "ecf40e85-154f-4df3-b41b-fe6ae177f61a",
   "metadata": {},
   "outputs": [],
   "source": [
    "array3d = np.array([\n",
    "    \n",
    "    [['R', 'G', 'B'], ['R', 'G', 'B']], \n",
    "    \n",
    "    \n",
    "    [['R', 'G', 'B'], ['R', 'G', 'B']]\n",
    "])\n",
    "array3d"
   ]
  },
  {
   "cell_type": "markdown",
   "id": "2b3e040e-2f7b-495a-9795-8a71afddfcb8",
   "metadata": {},
   "source": [
    "\n",
    "### - **` Some Default Attributes `**\n",
    "***\n",
    "<font color = #318CE7 size = 3 >\n",
    "    \n",
    "> **The main data structure for multidimensional arrays in NumPy is the `ndarray class`.**\n",
    "\n",
    "Attribute    :    Description <BR>\n",
    "\n",
    "- `shape` : specifies the number of elements for each dimension of the array.\n",
    "- `size` : total number elements in the array.\n",
    "- `ndim` : Determines the dimension an array.\n",
    "- `nbytes` : Number of bytes used to store the data.  \n",
    "- `dtype` : Determines the datatype of elements stored in array.\n",
    "    \n",
    "***\n",
    "\n",
    "</font>\n",
    "\n",
    "***"
   ]
  },
  {
   "cell_type": "code",
   "execution_count": 5,
   "id": "583331aa-4230-40e5-b85b-84dcb25432f2",
   "metadata": {},
   "outputs": [
    {
     "name": "stdout",
     "output_type": "stream",
     "text": [
      "(3,)\n",
      "(3, 4)\n"
     ]
    }
   ],
   "source": [
    "print(array1d.shape) \n",
    "print(array2d.shape) \n",
    "# print(array3d.shape)"
   ]
  },
  {
   "cell_type": "code",
   "execution_count": 6,
   "id": "7042edc6-c5ee-45ae-a1bc-22340771ba2c",
   "metadata": {},
   "outputs": [
    {
     "name": "stdout",
     "output_type": "stream",
     "text": [
      "1\n",
      "2\n"
     ]
    }
   ],
   "source": [
    "print(array1d.ndim)\n",
    "print(array2d.ndim)\n",
    "# print(array3d.ndim)"
   ]
  },
  {
   "cell_type": "code",
   "execution_count": null,
   "id": "fe239ead-a34d-4910-94e2-37c6e6bfff53",
   "metadata": {},
   "outputs": [],
   "source": []
  },
  {
   "cell_type": "code",
   "execution_count": null,
   "id": "ca2552be-275e-442a-8870-e079cca82226",
   "metadata": {},
   "outputs": [],
   "source": []
  },
  {
   "cell_type": "code",
   "execution_count": null,
   "id": "f3e6ba1e-8e0d-4e20-a5b0-fd51746df689",
   "metadata": {},
   "outputs": [],
   "source": []
  },
  {
   "cell_type": "code",
   "execution_count": null,
   "id": "fe49ee51-b4b3-4b7c-bc67-0c7aa80c17bc",
   "metadata": {},
   "outputs": [],
   "source": []
  },
  {
   "cell_type": "code",
   "execution_count": null,
   "id": "6eb194e0-5e40-4eba-b0ed-27598f552cfd",
   "metadata": {},
   "outputs": [],
   "source": []
  },
  {
   "cell_type": "markdown",
   "id": "1e11bb88-a351-4c9b-8cb0-21bfe4cbd77c",
   "metadata": {},
   "source": [
    "\n",
    "### - **` Reshape an array `**\n",
    "***\n",
    "<font color = #318CE7 size = 3 >\n",
    "    \n",
    " > The `reshape()` method modifies existing shape but original array remains unchanged.\n",
    " \n",
    "</font>\n",
    "\n",
    "***"
   ]
  },
  {
   "cell_type": "code",
   "execution_count": 36,
   "id": "5d2b8578-589e-4c52-a2a9-5a1242681f2c",
   "metadata": {},
   "outputs": [
    {
     "data": {
      "text/plain": [
       "array([[1, 2, 3],\n",
       "       [4, 5, 6],\n",
       "       [7, 8, 9]])"
      ]
     },
     "execution_count": 36,
     "metadata": {},
     "output_type": "execute_result"
    }
   ],
   "source": [
    "np_a.reshape(3,3)"
   ]
  },
  {
   "cell_type": "code",
   "execution_count": null,
   "id": "467e283d-f86b-4949-9636-4cb74049d658",
   "metadata": {},
   "outputs": [],
   "source": [
    "thearray = np.array([1, 2, 3, 4, 5, 6, 7, 8])\n",
    "thearray = thearray.reshape(2, 4)\n",
    "print(thearray)\n",
    " \n",
    "print(\"-\" * 20)\n",
    "\n",
    "thearray = thearray.reshape(4, 2)\n",
    "print(thearray)\n",
    " \n",
    "print(\"-\" * 20)\n",
    "\n",
    "thearray = thearray.reshape(8, 1)\n",
    "print(thearray)"
   ]
  },
  {
   "cell_type": "markdown",
   "id": "846c21f7-cb6c-4592-91c6-160ce4af3ec7",
   "metadata": {},
   "source": [
    "\n",
    "### - **` Resize an array `**\n",
    "***\n",
    "<font color = #318CE7 size = 3 >\n",
    "    \n",
    " > The `resize()` method modifies existing shape and array itself.\n",
    " \n",
    "</font>\n",
    "\n",
    "***"
   ]
  },
  {
   "cell_type": "code",
   "execution_count": 7,
   "id": "855f7bd3-6770-4f84-ae88-98e8275f73a6",
   "metadata": {},
   "outputs": [
    {
     "name": "stdout",
     "output_type": "stream",
     "text": [
      "[1 2 3 4]\n",
      "--------------------\n",
      "[[1 2 3 4]\n",
      " [5 6 7 8]]\n",
      "--------------------\n",
      "[[1 2 3]\n",
      " [4 5 6]\n",
      " [7 8 0]]\n"
     ]
    }
   ],
   "source": [
    "thearray = np.array([1, 2, 3, 4, 5, 6, 7, 8])\n",
    "thearray.resize(4)\n",
    "print(thearray)\n",
    " \n",
    "print(\"-\" * 20)\n",
    "\n",
    "thearray = np.array([1, 2, 3, 4, 5, 6, 7, 8])\n",
    "thearray.resize(2, 4)\n",
    "print(thearray)\n",
    " \n",
    "print(\"-\" * 20)\n",
    "\n",
    "thearray = np.array([1, 2, 3, 4, 5, 6, 7, 8])\n",
    "thearray.resize(3, 3)\n",
    "print(thearray)"
   ]
  },
  {
   "cell_type": "code",
   "execution_count": null,
   "id": "26e6ab23-e1ae-4ce0-8658-02ff45b8dc80",
   "metadata": {},
   "outputs": [],
   "source": []
  },
  {
   "cell_type": "code",
   "execution_count": null,
   "id": "b431172a-b8ad-4f67-b122-36f84390a708",
   "metadata": {},
   "outputs": [],
   "source": []
  },
  {
   "cell_type": "code",
   "execution_count": null,
   "id": "6f1d1b57-bacd-4b11-8bac-5de8a2012f55",
   "metadata": {},
   "outputs": [],
   "source": []
  },
  {
   "cell_type": "markdown",
   "id": "372dde2b-8d31-440c-a617-96cd32c35bd1",
   "metadata": {},
   "source": [
    "### Using Numpy function\n",
    "\n",
    "### - **` Some Built-in Methods for creating arrays `**\n",
    "***\n",
    "<font color = #318CE7 size = 3 >\n",
    "    \n",
    "- `arange` \n",
    "\n",
    "- `linspace`\n",
    "\n",
    "- `random.rand`\n",
    " \n",
    "</font>\n",
    "\n",
    "***"
   ]
  },
  {
   "cell_type": "code",
   "execution_count": 42,
   "id": "c26fa158-56b9-42e5-b59b-1a799e5aa2cb",
   "metadata": {},
   "outputs": [
    {
     "data": {
      "text/plain": [
       "array([10, 11, 12, 13, 14, 15, 16, 17, 18, 19])"
      ]
     },
     "execution_count": 42,
     "metadata": {},
     "output_type": "execute_result"
    }
   ],
   "source": [
    "# arange\n",
    "np.arange(10,20)"
   ]
  },
  {
   "cell_type": "code",
   "execution_count": 46,
   "id": "927965c8-3e06-4167-b585-6c9f39b0a987",
   "metadata": {},
   "outputs": [
    {
     "data": {
      "text/plain": [
       "array([ 0.,  5., 10.])"
      ]
     },
     "execution_count": 46,
     "metadata": {},
     "output_type": "execute_result"
    }
   ],
   "source": [
    "np.linspace(0,10,3)"
   ]
  },
  {
   "cell_type": "code",
   "execution_count": 47,
   "id": "f29ba997-192f-4ddf-918b-5ace238c5b73",
   "metadata": {},
   "outputs": [],
   "source": [
    "a_3d = np_a.reshape(3,3)"
   ]
  },
  {
   "cell_type": "code",
   "execution_count": 48,
   "id": "01b30563-86b1-4983-a4f1-69e50134b132",
   "metadata": {},
   "outputs": [
    {
     "data": {
      "text/plain": [
       "array([[1, 2, 3],\n",
       "       [4, 5, 6],\n",
       "       [7, 8, 9]])"
      ]
     },
     "execution_count": 48,
     "metadata": {},
     "output_type": "execute_result"
    }
   ],
   "source": [
    "a_3d"
   ]
  },
  {
   "cell_type": "code",
   "execution_count": 49,
   "id": "fc2aeddc-0b1c-4b40-b07c-e35efe23ee13",
   "metadata": {},
   "outputs": [
    {
     "data": {
      "text/plain": [
       "array([1, 2, 3, 4, 5, 6, 7, 8, 9])"
      ]
     },
     "execution_count": 49,
     "metadata": {},
     "output_type": "execute_result"
    }
   ],
   "source": [
    "np_a"
   ]
  },
  {
   "cell_type": "code",
   "execution_count": 8,
   "id": "ba30bff8-89bd-463a-86ee-a776bf737b2e",
   "metadata": {},
   "outputs": [
    {
     "name": "stdout",
     "output_type": "stream",
     "text": [
      "[ 1.0756868   2.38130084 -0.22354102 ... -0.36772106  1.25560384\n",
      "  0.35312165]\n",
      "mean :  -0.001405520941038791\n",
      "std. dev.: 1.0025765626720895\n"
     ]
    }
   ],
   "source": [
    "# Standard Normal Distribution Random Number Generator\n",
    "snormal = np.random.randn(10000)\n",
    "print(snormal)\n",
    "print(\"mean : \", np.mean(snormal))\n",
    "print(\"std. dev.:\", np.std(snormal))"
   ]
  },
  {
   "cell_type": "code",
   "execution_count": null,
   "id": "fa5541d6-2188-4962-9eca-18585e97ce44",
   "metadata": {},
   "outputs": [],
   "source": []
  },
  {
   "cell_type": "markdown",
   "id": "bfa04ebf-42f6-4ae6-a3e4-01332a09fed7",
   "metadata": {},
   "source": [
    "## Array Indexing\n",
    "### - **`Indexing a 2D array (matrices)`**\n",
    "***\n",
    "<font color = #318CE7 size = 3 >\n",
    "    \n",
    "The general format is `arr_2d[row][col]` or `arr_2d[row,col]`. I recommend usually using the comma notation for clarity.\n",
    " \n",
    "</font>\n",
    "\n",
    "***"
   ]
  },
  {
   "cell_type": "code",
   "execution_count": 52,
   "id": "739140b8-489c-4edd-9d81-110f802cf466",
   "metadata": {},
   "outputs": [
    {
     "data": {
      "text/plain": [
       "2"
      ]
     },
     "execution_count": 52,
     "metadata": {},
     "output_type": "execute_result"
    }
   ],
   "source": [
    "np_a[1]"
   ]
  },
  {
   "cell_type": "code",
   "execution_count": 60,
   "id": "069faf1c-8365-490f-8c98-21bf0c575479",
   "metadata": {},
   "outputs": [
    {
     "data": {
      "text/plain": [
       "5"
      ]
     },
     "execution_count": 60,
     "metadata": {},
     "output_type": "execute_result"
    }
   ],
   "source": [
    "a_3d[1][1]"
   ]
  },
  {
   "cell_type": "markdown",
   "id": "5c782984-aab1-4013-93c7-7aad171785c0",
   "metadata": {},
   "source": [
    "### - **`Conditional Selection`**\n",
    "***\n"
   ]
  },
  {
   "cell_type": "code",
   "execution_count": 10,
   "id": "455b2415-4981-4aa4-8b4d-d61e6f7d708c",
   "metadata": {},
   "outputs": [
    {
     "data": {
      "text/plain": [
       "array([ 1,  2,  3,  4,  5,  6,  7,  8,  9, 10])"
      ]
     },
     "execution_count": 10,
     "metadata": {},
     "output_type": "execute_result"
    }
   ],
   "source": [
    "conarr = np.arange(1,11)\n",
    "conarr"
   ]
  },
  {
   "cell_type": "code",
   "execution_count": 11,
   "id": "62e603c2-0308-40a2-af5e-931aa83ce091",
   "metadata": {},
   "outputs": [
    {
     "data": {
      "text/plain": [
       "array([False, False, False, False,  True,  True,  True,  True,  True,\n",
       "        True])"
      ]
     },
     "execution_count": 11,
     "metadata": {},
     "output_type": "execute_result"
    }
   ],
   "source": [
    "conarr > 4 "
   ]
  },
  {
   "cell_type": "code",
   "execution_count": 12,
   "id": "7fc618de-439c-49cb-a6a5-ed1c9e6bb60e",
   "metadata": {},
   "outputs": [
    {
     "data": {
      "text/plain": [
       "array([False, False, False, False,  True,  True,  True,  True,  True,\n",
       "        True])"
      ]
     },
     "execution_count": 12,
     "metadata": {},
     "output_type": "execute_result"
    }
   ],
   "source": [
    "bool_conarr = conarr > 4\n",
    "bool_conarr"
   ]
  },
  {
   "cell_type": "code",
   "execution_count": 13,
   "id": "70329a89-35d8-4ad8-89c3-78e46ef14945",
   "metadata": {},
   "outputs": [
    {
     "data": {
      "text/plain": [
       "array([ 5,  6,  7,  8,  9, 10])"
      ]
     },
     "execution_count": 13,
     "metadata": {},
     "output_type": "execute_result"
    }
   ],
   "source": [
    "conarr[bool_conarr]"
   ]
  },
  {
   "cell_type": "code",
   "execution_count": 14,
   "id": "f92e7703-6976-405a-9ffb-6c6612f0bc47",
   "metadata": {},
   "outputs": [
    {
     "data": {
      "text/plain": [
       "array([  1,   2, 100, 100, 100, 100, 100, 100, 100, 100])"
      ]
     },
     "execution_count": 14,
     "metadata": {},
     "output_type": "execute_result"
    }
   ],
   "source": [
    "conarr [ conarr > 2 ] = 100\n",
    "conarr"
   ]
  },
  {
   "cell_type": "code",
   "execution_count": null,
   "id": "7207c753-466d-469e-bb43-6ae90106b026",
   "metadata": {},
   "outputs": [],
   "source": []
  },
  {
   "cell_type": "markdown",
   "id": "54744b76-8f29-4c4d-b6c5-ccc48a28d1c1",
   "metadata": {},
   "source": [
    "## Array Data types"
   ]
  },
  {
   "cell_type": "code",
   "execution_count": 66,
   "id": "7c0d778f-aabd-4d6a-a46f-80061644e6d1",
   "metadata": {},
   "outputs": [],
   "source": [
    "a = np.array([1,2,3,4,5], dtype = np.uint8)"
   ]
  },
  {
   "cell_type": "code",
   "execution_count": 67,
   "id": "0dcdb535-7f61-4a2a-a847-19ebe9c79cb5",
   "metadata": {},
   "outputs": [
    {
     "data": {
      "text/plain": [
       "dtype('uint8')"
      ]
     },
     "execution_count": 67,
     "metadata": {},
     "output_type": "execute_result"
    }
   ],
   "source": [
    "a.dtype"
   ]
  },
  {
   "cell_type": "markdown",
   "id": "0e682faa-2681-4f62-9f07-eafdd38dae7f",
   "metadata": {},
   "source": [
    "## Array broadcasting"
   ]
  },
  {
   "cell_type": "code",
   "execution_count": 73,
   "id": "46cc8977-ea8a-459d-afe1-ae58d5478535",
   "metadata": {},
   "outputs": [],
   "source": [
    "a = np.array([[1.0, 2.0, 3.0],\n",
    "            [4.0, 5.0, 6.0],\n",
    "            [7.0, 8.0, 9.0]])"
   ]
  },
  {
   "cell_type": "code",
   "execution_count": 77,
   "id": "d205489a-abd5-4db2-87a1-66e673ac1266",
   "metadata": {},
   "outputs": [],
   "source": [
    " b = 2*a"
   ]
  },
  {
   "cell_type": "code",
   "execution_count": 78,
   "id": "d7961494-f749-46a3-b444-656283036484",
   "metadata": {},
   "outputs": [
    {
     "data": {
      "text/plain": [
       "(array([[1., 2., 3.],\n",
       "        [4., 5., 6.],\n",
       "        [7., 8., 9.]]),\n",
       " array([[ 2.,  4.,  6.],\n",
       "        [ 8., 10., 12.],\n",
       "        [14., 16., 18.]]))"
      ]
     },
     "execution_count": 78,
     "metadata": {},
     "output_type": "execute_result"
    }
   ],
   "source": [
    "a,b"
   ]
  },
  {
   "cell_type": "code",
   "execution_count": 79,
   "id": "4f317c48-7eed-42d1-8401-4dd5ce73d27a",
   "metadata": {},
   "outputs": [
    {
     "data": {
      "text/plain": [
       "array([[ 3.,  6.,  9.],\n",
       "       [12., 15., 18.],\n",
       "       [21., 24., 27.]])"
      ]
     },
     "execution_count": 79,
     "metadata": {},
     "output_type": "execute_result"
    }
   ],
   "source": [
    "a+b"
   ]
  },
  {
   "cell_type": "code",
   "execution_count": null,
   "id": "82c4011b-6e82-4005-9ae8-72954a66c58c",
   "metadata": {},
   "outputs": [],
   "source": []
  },
  {
   "cell_type": "code",
   "execution_count": null,
   "id": "81b364be-d3ac-45e8-9f71-24d0fa24f1cc",
   "metadata": {},
   "outputs": [],
   "source": []
  },
  {
   "cell_type": "code",
   "execution_count": null,
   "id": "8d009f5b-220b-4c8b-acdb-9c8c39e7fe7d",
   "metadata": {},
   "outputs": [],
   "source": []
  },
  {
   "cell_type": "code",
   "execution_count": null,
   "id": "ade24229-4c35-4a18-98b7-0b00bc6d7577",
   "metadata": {},
   "outputs": [],
   "source": []
  },
  {
   "cell_type": "code",
   "execution_count": null,
   "id": "e44858fa-0cee-4715-9eca-13c304efabe2",
   "metadata": {},
   "outputs": [],
   "source": []
  }
 ],
 "metadata": {
  "kernelspec": {
   "display_name": "Python 3 (ipykernel)",
   "language": "python",
   "name": "python3"
  },
  "language_info": {
   "codemirror_mode": {
    "name": "ipython",
    "version": 3
   },
   "file_extension": ".py",
   "mimetype": "text/x-python",
   "name": "python",
   "nbconvert_exporter": "python",
   "pygments_lexer": "ipython3",
   "version": "3.9.18"
  }
 },
 "nbformat": 4,
 "nbformat_minor": 5
}
