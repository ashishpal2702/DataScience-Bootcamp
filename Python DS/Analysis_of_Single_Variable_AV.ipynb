{
 "cells": [
  {
   "cell_type": "markdown",
   "metadata": {},
   "source": [
    "\n",
    "# Descriptive Analysis of MBA Students data\n",
    "***\n",
    "## Analysis of a Single Variable\n"
   ]
  },
  {
   "cell_type": "markdown",
   "metadata": {},
   "source": [
    "### Data Import"
   ]
  },
  {
   "cell_type": "code",
   "execution_count": 1,
   "metadata": {},
   "outputs": [],
   "source": [
    "# Import the required packages\n",
    "import pandas as pd\n",
    "import numpy as np\n",
    "import os\n",
    "import matplotlib.pyplot as plt\n",
    "import seaborn as sns\n",
    "\n",
    "%matplotlib inline"
   ]
  },
  {
   "cell_type": "code",
   "execution_count": 2,
   "metadata": {},
   "outputs": [],
   "source": [
    "mba_df = pd.read_csv(\"MBA_Students_Data.csv\")"
   ]
  },
  {
   "cell_type": "code",
   "execution_count": 3,
   "metadata": {},
   "outputs": [
    {
     "data": {
      "text/plain": [
       "(200, 15)"
      ]
     },
     "execution_count": 3,
     "metadata": {},
     "output_type": "execute_result"
    }
   ],
   "source": [
    "mba_df.shape"
   ]
  },
  {
   "cell_type": "code",
   "execution_count": 4,
   "metadata": {},
   "outputs": [
    {
     "data": {
      "text/html": [
       "<div>\n",
       "<style scoped>\n",
       "    .dataframe tbody tr th:only-of-type {\n",
       "        vertical-align: middle;\n",
       "    }\n",
       "\n",
       "    .dataframe tbody tr th {\n",
       "        vertical-align: top;\n",
       "    }\n",
       "\n",
       "    .dataframe thead th {\n",
       "        text-align: right;\n",
       "    }\n",
       "</style>\n",
       "<table border=\"1\" class=\"dataframe\">\n",
       "  <thead>\n",
       "    <tr style=\"text-align: right;\">\n",
       "      <th></th>\n",
       "      <th>sr_no</th>\n",
       "      <th>mba_specialization</th>\n",
       "      <th>mba_grades</th>\n",
       "      <th>gender</th>\n",
       "      <th>age</th>\n",
       "      <th>pg_degree</th>\n",
       "      <th>grad_degree</th>\n",
       "      <th>grad_pass_year</th>\n",
       "      <th>grad_pct</th>\n",
       "      <th>ten_plus_2_pass_year</th>\n",
       "      <th>ten_plus_2_pct</th>\n",
       "      <th>ten_plus_2_stream</th>\n",
       "      <th>tenth_pass_year</th>\n",
       "      <th>tenth_std_pct</th>\n",
       "      <th>work_exp_in_mths</th>\n",
       "    </tr>\n",
       "  </thead>\n",
       "  <tbody>\n",
       "    <tr>\n",
       "      <th>0</th>\n",
       "      <td>1</td>\n",
       "      <td>Business Analytics</td>\n",
       "      <td>8.2</td>\n",
       "      <td>M</td>\n",
       "      <td>26</td>\n",
       "      <td>No</td>\n",
       "      <td>B.Tech</td>\n",
       "      <td>2011</td>\n",
       "      <td>61.65</td>\n",
       "      <td>2008</td>\n",
       "      <td>85.67</td>\n",
       "      <td>Science</td>\n",
       "      <td>2006</td>\n",
       "      <td>80.00</td>\n",
       "      <td>44.0</td>\n",
       "    </tr>\n",
       "    <tr>\n",
       "      <th>1</th>\n",
       "      <td>2</td>\n",
       "      <td>Marketing</td>\n",
       "      <td>8.5</td>\n",
       "      <td>F</td>\n",
       "      <td>21</td>\n",
       "      <td>No</td>\n",
       "      <td>B.M.S</td>\n",
       "      <td>2016</td>\n",
       "      <td>76.75</td>\n",
       "      <td>2013</td>\n",
       "      <td>87.54</td>\n",
       "      <td>Commerce</td>\n",
       "      <td>2011</td>\n",
       "      <td>88.40</td>\n",
       "      <td>NaN</td>\n",
       "    </tr>\n",
       "    <tr>\n",
       "      <th>2</th>\n",
       "      <td>3</td>\n",
       "      <td>Marketing</td>\n",
       "      <td>8.9</td>\n",
       "      <td>M</td>\n",
       "      <td>21</td>\n",
       "      <td>No</td>\n",
       "      <td>B.Sc</td>\n",
       "      <td>2015</td>\n",
       "      <td>77.25</td>\n",
       "      <td>2012</td>\n",
       "      <td>75.07</td>\n",
       "      <td>Science</td>\n",
       "      <td>2010</td>\n",
       "      <td>84.20</td>\n",
       "      <td>0.0</td>\n",
       "    </tr>\n",
       "    <tr>\n",
       "      <th>3</th>\n",
       "      <td>4</td>\n",
       "      <td>Marketing</td>\n",
       "      <td>8.2</td>\n",
       "      <td>F</td>\n",
       "      <td>23</td>\n",
       "      <td>No</td>\n",
       "      <td>B.Com</td>\n",
       "      <td>2014</td>\n",
       "      <td>84.21</td>\n",
       "      <td>2011</td>\n",
       "      <td>82.77</td>\n",
       "      <td>Commerce</td>\n",
       "      <td>2009</td>\n",
       "      <td>85.09</td>\n",
       "      <td>NaN</td>\n",
       "    </tr>\n",
       "    <tr>\n",
       "      <th>4</th>\n",
       "      <td>5</td>\n",
       "      <td>Marketing</td>\n",
       "      <td>7.2</td>\n",
       "      <td>F</td>\n",
       "      <td>21</td>\n",
       "      <td>No</td>\n",
       "      <td>B.M.S</td>\n",
       "      <td>2015</td>\n",
       "      <td>71.00</td>\n",
       "      <td>2012</td>\n",
       "      <td>71.45</td>\n",
       "      <td>Commerce</td>\n",
       "      <td>2010</td>\n",
       "      <td>78.36</td>\n",
       "      <td>6.0</td>\n",
       "    </tr>\n",
       "  </tbody>\n",
       "</table>\n",
       "</div>"
      ],
      "text/plain": [
       "   sr_no  mba_specialization  mba_grades gender  age pg_degree grad_degree  \\\n",
       "0      1  Business Analytics         8.2      M   26        No      B.Tech   \n",
       "1      2           Marketing         8.5      F   21        No       B.M.S   \n",
       "2      3           Marketing         8.9      M   21        No        B.Sc   \n",
       "3      4           Marketing         8.2      F   23        No       B.Com   \n",
       "4      5           Marketing         7.2      F   21        No       B.M.S   \n",
       "\n",
       "   grad_pass_year  grad_pct  ten_plus_2_pass_year  ten_plus_2_pct  \\\n",
       "0            2011     61.65                  2008           85.67   \n",
       "1            2016     76.75                  2013           87.54   \n",
       "2            2015     77.25                  2012           75.07   \n",
       "3            2014     84.21                  2011           82.77   \n",
       "4            2015     71.00                  2012           71.45   \n",
       "\n",
       "  ten_plus_2_stream  tenth_pass_year  tenth_std_pct  work_exp_in_mths  \n",
       "0           Science             2006          80.00              44.0  \n",
       "1          Commerce             2011          88.40               NaN  \n",
       "2           Science             2010          84.20               0.0  \n",
       "3          Commerce             2009          85.09               NaN  \n",
       "4          Commerce             2010          78.36               6.0  "
      ]
     },
     "execution_count": 4,
     "metadata": {},
     "output_type": "execute_result"
    }
   ],
   "source": [
    "mba_df.head()"
   ]
  },
  {
   "cell_type": "markdown",
   "metadata": {},
   "source": [
    "## Analysis of a Single Categorical Variable\n",
    "### Frequency Distribution\n",
    "***\n",
    "### Analysis of MBA Specialization Field"
   ]
  },
  {
   "cell_type": "code",
   "execution_count": 5,
   "metadata": {},
   "outputs": [
    {
     "data": {
      "text/plain": [
       "Finance               80\n",
       "Marketing             70\n",
       "HR                    25\n",
       "Business Analytics    25\n",
       "Name: mba_specialization, dtype: int64"
      ]
     },
     "execution_count": 5,
     "metadata": {},
     "output_type": "execute_result"
    }
   ],
   "source": [
    "mba_df[\"mba_specialization\"].value_counts()"
   ]
  },
  {
   "cell_type": "code",
   "execution_count": 6,
   "metadata": {},
   "outputs": [
    {
     "data": {
      "text/html": [
       "<div>\n",
       "<style scoped>\n",
       "    .dataframe tbody tr th:only-of-type {\n",
       "        vertical-align: middle;\n",
       "    }\n",
       "\n",
       "    .dataframe tbody tr th {\n",
       "        vertical-align: top;\n",
       "    }\n",
       "\n",
       "    .dataframe thead th {\n",
       "        text-align: right;\n",
       "    }\n",
       "</style>\n",
       "<table border=\"1\" class=\"dataframe\">\n",
       "  <thead>\n",
       "    <tr style=\"text-align: right;\">\n",
       "      <th></th>\n",
       "      <th>Specialization</th>\n",
       "      <th>Cnt_Students</th>\n",
       "      <th>Pct_Students</th>\n",
       "    </tr>\n",
       "  </thead>\n",
       "  <tbody>\n",
       "    <tr>\n",
       "      <th>0</th>\n",
       "      <td>Finance</td>\n",
       "      <td>80</td>\n",
       "      <td>0.400</td>\n",
       "    </tr>\n",
       "    <tr>\n",
       "      <th>1</th>\n",
       "      <td>Marketing</td>\n",
       "      <td>70</td>\n",
       "      <td>0.350</td>\n",
       "    </tr>\n",
       "    <tr>\n",
       "      <th>2</th>\n",
       "      <td>HR</td>\n",
       "      <td>25</td>\n",
       "      <td>0.125</td>\n",
       "    </tr>\n",
       "    <tr>\n",
       "      <th>3</th>\n",
       "      <td>Business Analytics</td>\n",
       "      <td>25</td>\n",
       "      <td>0.125</td>\n",
       "    </tr>\n",
       "  </tbody>\n",
       "</table>\n",
       "</div>"
      ],
      "text/plain": [
       "       Specialization  Cnt_Students  Pct_Students\n",
       "0             Finance            80         0.400\n",
       "1           Marketing            70         0.350\n",
       "2                  HR            25         0.125\n",
       "3  Business Analytics            25         0.125"
      ]
     },
     "execution_count": 6,
     "metadata": {},
     "output_type": "execute_result"
    }
   ],
   "source": [
    "freq_table = mba_df[\"mba_specialization\"].value_counts().to_frame()\n",
    "freq_table.reset_index(inplace=True) # reset index\n",
    "freq_table.columns = [   \"Specialization\"   , 'Cnt_Students'] # rename columns\n",
    "freq_table[\"Pct_Students\"] = freq_table['Cnt_Students'] / sum(freq_table['Cnt_Students'])\n",
    "freq_table"
   ]
  },
  {
   "cell_type": "markdown",
   "metadata": {},
   "source": [
    "### Bar Plot"
   ]
  },
  {
   "cell_type": "code",
   "execution_count": 7,
   "metadata": {
    "scrolled": true
   },
   "outputs": [
    {
     "data": {
      "text/plain": [
       "<BarContainer object of 4 artists>"
      ]
     },
     "execution_count": 7,
     "metadata": {},
     "output_type": "execute_result"
    },
    {
     "data": {
      "image/png": "[encoded data removed]",
      "text/plain": [
       "<Figure size 432x288 with 1 Axes>"
      ]
     },
     "metadata": {
      "needs_background": "light"
     },
     "output_type": "display_data"
    }
   ],
   "source": [
    "# Simple one line syntax to make bar plot\n",
    "plt.bar(freq_table['Specialization'], freq_table['Cnt_Students']) "
   ]
  },
  {
   "cell_type": "code",
   "execution_count": 9,
   "metadata": {},
   "outputs": [
    {
     "data": {
      "text/plain": [
       "Text(0.5, 1.0, 'Specialization Bar Plot')"
      ]
     },
     "execution_count": 9,
     "metadata": {},
     "output_type": "execute_result"
    },
    {
     "data": {
      "image/png": "[encoded data removed]",
      "text/plain": [
       "<Figure size 648x360 with 1 Axes>"
      ]
     },
     "metadata": {},
     "output_type": "display_data"
    }
   ],
   "source": [
    "sns.set(style=\"whitegrid\")\n",
    "plt.figure(figsize=(9,5))\n",
    "ax = sns.barplot( x = freq_table['Specialization'], \n",
    "            y = freq_table['Cnt_Students'])\n",
    "ax.set_xlabel(\"MBA Specialization\",fontsize=15)\n",
    "ax.set_ylabel(\"# Students\",fontsize=15)\n",
    "ax.set_title(\"Specialization Bar Plot\")\n"
   ]
  },
  {
   "cell_type": "markdown",
   "metadata": {},
   "source": [
    "### Pie Plot"
   ]
  },
  {
   "cell_type": "code",
   "execution_count": 10,
   "metadata": {},
   "outputs": [
    {
     "data": {
      "image/png": "[encoded data removed]",
      "text/plain": [
       "<Figure size 504x504 with 1 Axes>"
      ]
     },
     "metadata": {},
     "output_type": "display_data"
    }
   ],
   "source": [
    "plt.figure(figsize=(7,7))\n",
    "colors = ['gold', 'yellowgreen', 'lightcoral', 'lightskyblue']\n",
    "explode = (0.1, 0, 0, 0)  # explode 1st slice\n",
    "\n",
    "# Plot\n",
    "plt.pie(freq_table['Cnt_Students'],\n",
    "        labels=freq_table['Specialization'],\n",
    "        explode=explode,  \n",
    "        colors=colors,\n",
    "        autopct='%1.1f%%', \n",
    "        shadow=True, startangle=140)\n",
    "\n",
    "plt.axis('equal')\n",
    "plt.show()"
   ]
  },
  {
   "cell_type": "markdown",
   "metadata": {},
   "source": [
    "## Analysis of Single Categorical Variable | Graduation Degree"
   ]
  },
  {
   "cell_type": "code",
   "execution_count": 11,
   "metadata": {},
   "outputs": [
    {
     "data": {
      "text/plain": [
       "45"
      ]
     },
     "execution_count": 11,
     "metadata": {},
     "output_type": "execute_result"
    }
   ],
   "source": [
    "freq_grad_deg = mba_df['grad_degree'].value_counts()\n",
    "freq_grad_deg.count()"
   ]
  },
  {
   "cell_type": "code",
   "execution_count": 12,
   "metadata": {},
   "outputs": [
    {
     "data": {
      "text/plain": [
       "B.Com                                           65\n",
       "B.M.S                                           31\n",
       "B.E                                             18\n",
       "B.E - Mechanical                                 9\n",
       "B.A.F                                            9\n",
       "B.Com - Honours                                  6\n",
       "B.Tech                                           4\n",
       "B.B.A                                            4\n",
       "B.E - Computers                                  3\n",
       "B.Sc                                             3\n",
       "B.E - Civil                                      3\n",
       "B.E - EXTC                                       3\n",
       "B.Tech - Computer Science                        2\n",
       "B.Com - Financial Markets                        2\n",
       "B.Tech - Mechanical                              2\n",
       "Bachelor of Banking and Insurance                2\n",
       "B.Sc - Information Technology                    2\n",
       "B.E - Computer Engineering                       2\n",
       "B.E - Production Engineering                     2\n",
       "B.E - Electrical                                 2\n",
       "B.E - Electronics and Telecommunications         2\n",
       "B.E - Electronics                                1\n",
       "B.Sc - Zoology                                   1\n",
       "B.E Production                                   1\n",
       "Bachelor in Computer Application                 1\n",
       "B.M.M - Journalism                               1\n",
       "B.E - CSE                                        1\n",
       "Bachelor In Engineering                          1\n",
       "B.Sc - Physics, Chemistry, Maths                 1\n",
       "B.E - Information Technology                     1\n",
       "B.B.A - IT                                       1\n",
       "B.B.I                                            1\n",
       "B.B.A - IB                                       1\n",
       "B.M.M                                            1\n",
       "B.Sc - Hospitality and Hotel Administration      1\n",
       "B.Sc - Aeronautics                               1\n",
       "B.E - ENTC                                       1\n",
       "B.E - Chemical                                   1\n",
       "B.Sc - Nautical Science                          1\n",
       "B.E, Mumbai University                           1\n",
       "B.Tech - Civil Infrastructure Engineering        1\n",
       "B.Sc - Hotel Management                          1\n",
       "B.Tech - EXTC                                    1\n",
       "B.Sc - Computer Science                          1\n",
       "Bachelor of Banking and Finance                  1\n",
       "Name: grad_degree, dtype: int64"
      ]
     },
     "execution_count": 12,
     "metadata": {},
     "output_type": "execute_result"
    }
   ],
   "source": [
    "freq_grad_deg"
   ]
  },
  {
   "cell_type": "code",
   "execution_count": 13,
   "metadata": {},
   "outputs": [],
   "source": [
    "def fn_grad_deg_recat(x):\n",
    "    x = x.upper()\n",
    "    if (\"B.COM\" in x\n",
    "        or \"B.A.F\" in x\n",
    "       ):\n",
    "        return \"B.Com / B.A.F\"\n",
    "    elif (\"B.E\" in x \n",
    "          or \"B.TECH\" in x\n",
    "          or x == \"BACHELOR IN ENGINEERING\"\n",
    "          or x == \"BACHELOR IN COMPUTER APPLICATION\"\n",
    "         ):\n",
    "        return \"B.E / B.Tech\"\n",
    "    elif \"B.M.S\" in x:\n",
    "        return \"B.M.S\"\n",
    "    elif \"B.SC\" in x:\n",
    "        return \"B.Sc\"\n",
    "    elif (\"B.BA\" in x\n",
    "           or \"B.B.A\" in x\n",
    "         ):\n",
    "        return \"B.B.A\"\n",
    "    else:\n",
    "        return \"Other Specializations\""
   ]
  },
  {
   "cell_type": "code",
   "execution_count": 14,
   "metadata": {},
   "outputs": [
    {
     "data": {
      "text/html": [
       "<div>\n",
       "<style scoped>\n",
       "    .dataframe tbody tr th:only-of-type {\n",
       "        vertical-align: middle;\n",
       "    }\n",
       "\n",
       "    .dataframe tbody tr th {\n",
       "        vertical-align: top;\n",
       "    }\n",
       "\n",
       "    .dataframe thead th {\n",
       "        text-align: right;\n",
       "    }\n",
       "</style>\n",
       "<table border=\"1\" class=\"dataframe\">\n",
       "  <thead>\n",
       "    <tr style=\"text-align: right;\">\n",
       "      <th></th>\n",
       "      <th>Graduation Degree</th>\n",
       "      <th>Cnt_Students</th>\n",
       "      <th>Pct_Students</th>\n",
       "    </tr>\n",
       "  </thead>\n",
       "  <tbody>\n",
       "    <tr>\n",
       "      <th>0</th>\n",
       "      <td>B.Com / B.A.F</td>\n",
       "      <td>82</td>\n",
       "      <td>0.410</td>\n",
       "    </tr>\n",
       "    <tr>\n",
       "      <th>1</th>\n",
       "      <td>B.E / B.Tech</td>\n",
       "      <td>63</td>\n",
       "      <td>0.315</td>\n",
       "    </tr>\n",
       "    <tr>\n",
       "      <th>2</th>\n",
       "      <td>B.M.S</td>\n",
       "      <td>31</td>\n",
       "      <td>0.155</td>\n",
       "    </tr>\n",
       "    <tr>\n",
       "      <th>3</th>\n",
       "      <td>B.Sc</td>\n",
       "      <td>12</td>\n",
       "      <td>0.060</td>\n",
       "    </tr>\n",
       "    <tr>\n",
       "      <th>4</th>\n",
       "      <td>B.B.A</td>\n",
       "      <td>6</td>\n",
       "      <td>0.030</td>\n",
       "    </tr>\n",
       "    <tr>\n",
       "      <th>5</th>\n",
       "      <td>Other Specializations</td>\n",
       "      <td>6</td>\n",
       "      <td>0.030</td>\n",
       "    </tr>\n",
       "  </tbody>\n",
       "</table>\n",
       "</div>"
      ],
      "text/plain": [
       "       Graduation Degree  Cnt_Students  Pct_Students\n",
       "0          B.Com / B.A.F            82         0.410\n",
       "1           B.E / B.Tech            63         0.315\n",
       "2                  B.M.S            31         0.155\n",
       "3                   B.Sc            12         0.060\n",
       "4                  B.B.A             6         0.030\n",
       "5  Other Specializations             6         0.030"
      ]
     },
     "execution_count": 14,
     "metadata": {},
     "output_type": "execute_result"
    }
   ],
   "source": [
    "mba_df['grad_deg_recat'] = mba_df['grad_degree'].map(fn_grad_deg_recat)\n",
    "freq_grad_deg = mba_df['grad_deg_recat'].value_counts().to_frame()\n",
    "freq_grad_deg.reset_index(inplace=True) # reset index\n",
    "freq_grad_deg.columns = [   \"Graduation Degree\"   , 'Cnt_Students'] # rename columns\n",
    "freq_grad_deg[\"Pct_Students\"] = freq_grad_deg['Cnt_Students'] / sum(freq_grad_deg['Cnt_Students'])\n",
    "freq_grad_deg"
   ]
  },
  {
   "cell_type": "markdown",
   "metadata": {},
   "source": [
    "# Analysis of a Single Continuous Variable\n",
    "***\n",
    "## Histograms & Density Plots"
   ]
  },
  {
   "cell_type": "code",
   "execution_count": 15,
   "metadata": {},
   "outputs": [],
   "source": [
    "grades_mean = round(mba_df[\"mba_grades\"].mean(),1)\n",
    "grades_median = round(mba_df[\"mba_grades\"].median(),1)\n",
    "grades_min = round(mba_df[\"mba_grades\"].min(),1)\n",
    "grades_max = round(mba_df[\"mba_grades\"].max(),1)\n",
    "grades_std = round(np.std(mba_df[\"mba_grades\"]),1)"
   ]
  },
  {
   "cell_type": "code",
   "execution_count": 16,
   "metadata": {},
   "outputs": [
    {
     "name": "stdout",
     "output_type": "stream",
     "text": [
      "Mean grade of the students is : 7.4\n",
      "Median grade of the students is : 7.5\n",
      "Min grade of the students is : 6.3\n",
      "Max grade of the students is : 9.2\n",
      "Std. Dev of the students grade is : 0.6\n"
     ]
    }
   ],
   "source": [
    "print(\"Mean grade of the students is :\" , grades_mean)\n",
    "print(\"Median grade of the students is :\" , grades_median)\n",
    "print(\"Min grade of the students is :\" , grades_min)\n",
    "print(\"Max grade of the students is :\" , grades_max)\n",
    "print(\"Std. Dev of the students grade is :\" , grades_std)"
   ]
  },
  {
   "cell_type": "code",
   "execution_count": 19,
   "metadata": {},
   "outputs": [
    {
     "data": {
      "image/png": "[encoded data removed]",
      "text/plain": [
       "<Figure size 648x360 with 1 Axes>"
      ]
     },
     "metadata": {},
     "output_type": "display_data"
    }
   ],
   "source": [
    "plt.figure(figsize=(9,5))\n",
    "plt.hist(mba_df['mba_grades'], rwidth = 0.98)\n",
    "\n",
    "plt.title(\"Histogram of Students Grade\", fontsize=20)\n",
    "plt.xlabel('MBA Grades', fontsize=15)\n",
    "plt.ylabel('Count Students', fontsize=15)\n",
    "plt.grid(axis='y')"
   ]
  },
  {
   "cell_type": "code",
   "execution_count": 22,
   "metadata": {},
   "outputs": [
    {
     "name": "stderr",
     "output_type": "stream",
     "text": [
      "2023-09-05 10:26:51,818 [4456] WARNING  py.warnings:110: [JupyterRequire] D:\\ProgramData\\Anaconda3\\envs\\PyEnv37\\lib\\site-packages\\seaborn\\distributions.py:2557: FutureWarning: `distplot` is a deprecated function and will be removed in a future version. Please adapt your code to use either `displot` (a figure-level function with similar flexibility) or `histplot` (an axes-level function for histograms).\n",
      "  warnings.warn(msg, FutureWarning)\n",
      "\n"
     ]
    },
    {
     "data": {
      "image/png": "[encoded data removed]",
      "text/plain": [
       "<Figure size 648x360 with 1 Axes>"
      ]
     },
     "metadata": {},
     "output_type": "display_data"
    }
   ],
   "source": [
    "plt.figure(figsize=(9,5))\n",
    "sns.distplot(mba_df['mba_grades'],            \n",
    "             hist = True, bins=10, \n",
    "             kde=True, color='#1F78B4'\n",
    "            )\n",
    "## KDE stands for Kernel Density Estimate\n",
    "\n",
    "plt.title(\"Density Plot of Students Grade\", fontsize=20)\n",
    "plt.xlabel('MBA Grades', fontsize=15)\n",
    "plt.ylabel('Density Function', fontsize=15)\n",
    "plt.grid(axis='y')"
   ]
  },
  {
   "cell_type": "code",
   "execution_count": 23,
   "metadata": {},
   "outputs": [
    {
     "data": {
      "text/plain": [
       "Text(0.5, 0, 'MBA Grades')"
      ]
     },
     "execution_count": 23,
     "metadata": {},
     "output_type": "execute_result"
    },
    {
     "data": {
      "image/png": "[encoded data removed]",
      "text/plain": [
       "<Figure size 648x360 with 1 Axes>"
      ]
     },
     "metadata": {},
     "output_type": "display_data"
    }
   ],
   "source": [
    "plt.figure(figsize=(9,5))\n",
    "boxplot = sns.boxplot(x='mba_grades',\n",
    "                 data=mba_df, showmeans=True,\n",
    "                 width=0.5, \n",
    "                 palette=\"colorblind\")\n",
    "plt.title(\"Box Plot of Students Grade\", fontsize=20)\n",
    "plt.xlabel('MBA Grades', fontsize=15)"
   ]
  },
  {
   "cell_type": "markdown",
   "metadata": {},
   "source": [
    "## Percentile Distribution"
   ]
  },
  {
   "cell_type": "code",
   "execution_count": 24,
   "metadata": {},
   "outputs": [
    {
     "data": {
      "text/html": [
       "<div>\n",
       "<style scoped>\n",
       "    .dataframe tbody tr th:only-of-type {\n",
       "        vertical-align: middle;\n",
       "    }\n",
       "\n",
       "    .dataframe tbody tr th {\n",
       "        vertical-align: top;\n",
       "    }\n",
       "\n",
       "    .dataframe thead th {\n",
       "        text-align: right;\n",
       "    }\n",
       "</style>\n",
       "<table border=\"1\" class=\"dataframe\">\n",
       "  <thead>\n",
       "    <tr style=\"text-align: right;\">\n",
       "      <th></th>\n",
       "      <th>0.00</th>\n",
       "      <th>0.01</th>\n",
       "      <th>0.05</th>\n",
       "      <th>0.10</th>\n",
       "      <th>0.25</th>\n",
       "      <th>0.50</th>\n",
       "      <th>0.75</th>\n",
       "      <th>0.90</th>\n",
       "      <th>0.95</th>\n",
       "      <th>0.99</th>\n",
       "      <th>1.00</th>\n",
       "    </tr>\n",
       "  </thead>\n",
       "  <tbody>\n",
       "    <tr>\n",
       "      <th>mba_grades</th>\n",
       "      <td>6.3</td>\n",
       "      <td>6.5</td>\n",
       "      <td>6.5</td>\n",
       "      <td>6.79</td>\n",
       "      <td>6.9</td>\n",
       "      <td>7.5</td>\n",
       "      <td>7.8</td>\n",
       "      <td>8.2</td>\n",
       "      <td>8.6</td>\n",
       "      <td>9.001</td>\n",
       "      <td>9.2</td>\n",
       "    </tr>\n",
       "  </tbody>\n",
       "</table>\n",
       "</div>"
      ],
      "text/plain": [
       "            0.00  0.01  0.05  0.10  0.25  0.50  0.75  0.90  0.95   0.99  1.00\n",
       "mba_grades   6.3   6.5   6.5  6.79   6.9   7.5   7.8   8.2   8.6  9.001   9.2"
      ]
     },
     "execution_count": 24,
     "metadata": {},
     "output_type": "execute_result"
    }
   ],
   "source": [
    "# Get the percentile distribution of the students grade\n",
    "mba_df['mba_grades'].quantile([0,0.01,0.05,0.1,0.25,0.5,0.75,0.9,0.95,0.99,1]).to_frame().T"
   ]
  },
  {
   "cell_type": "markdown",
   "metadata": {},
   "source": [
    "# Thank you \n"
   ]
  },
  {
   "cell_type": "code",
   "execution_count": null,
   "metadata": {},
   "outputs": [],
   "source": []
  },
  {
   "cell_type": "code",
   "execution_count": 26,
   "metadata": {},
   "outputs": [
    {
     "data": {
      "application/vnd.jupyter.widget-view+json": {
       "model_id": "fb05f5d71fb34d348b480d90115c6882",
       "version_major": 2,
       "version_minor": 0
      },
      "text/plain": [
       "HBox(children=(HTML(value='Summarize dataset'), FloatProgress(value=0.0, max=24.0), HTML(value='')))"
      ]
     },
     "metadata": {},
     "output_type": "display_data"
    },
    {
     "name": "stdout",
     "output_type": "stream",
     "text": [
      "\n"
     ]
    },
    {
     "data": {
      "application/vnd.jupyter.widget-view+json": {
       "model_id": "c25ea8f3eeea4b33925215deee32b368",
       "version_major": 2,
       "version_minor": 0
      },
      "text/plain": [
       "HBox(children=(HTML(value='Generate report structure'), FloatProgress(value=0.0, max=1.0), HTML(value='')))"
      ]
     },
     "metadata": {},
     "output_type": "display_data"
    },
    {
     "name": "stdout",
     "output_type": "stream",
     "text": [
      "\n"
     ]
    },
    {
     "data": {
      "application/vnd.jupyter.widget-view+json": {
       "model_id": "ae4fc96848224cdba84f6f7b19463cac",
       "version_major": 2,
       "version_minor": 0
      },
      "text/plain": [
       "HBox(children=(HTML(value='Render HTML'), FloatProgress(value=0.0, max=1.0), HTML(value='')))"
      ]
     },
     "metadata": {},
     "output_type": "display_data"
    },
    {
     "name": "stdout",
     "output_type": "stream",
     "text": [
      "\n"
     ]
    },
    {
     "data": {
      "application/vnd.jupyter.widget-view+json": {
       "model_id": "cdefdf7a0dbc45e4a7f16798dfc4d53c",
       "version_major": 2,
       "version_minor": 0
      },
      "text/plain": [
       "HBox(children=(HTML(value='Export report to file'), FloatProgress(value=0.0, max=1.0), HTML(value='')))"
      ]
     },
     "metadata": {},
     "output_type": "display_data"
    },
    {
     "name": "stdout",
     "output_type": "stream",
     "text": [
      "\n"
     ]
    }
   ],
   "source": [
    "# conda install -c conda-forge pandas-profiling\n",
    "import pandas_profiling as pp\n",
    "report = pp.ProfileReport(mba_df, minimal=True)\n",
    "report.to_file(\"mba_students_Report.html\")"
   ]
  },
  {
   "cell_type": "code",
   "execution_count": null,
   "metadata": {},
   "outputs": [],
   "source": []
  }
 ],
 "metadata": {
  "kernelspec": {
   "display_name": "Python 3 (ipykernel)",
   "language": "python",
   "name": "python3"
  },
  "language_info": {
   "codemirror_mode": {
    "name": "ipython",
    "version": 3
   },
   "file_extension": ".py",
   "mimetype": "text/x-python",
   "name": "python",
   "nbconvert_exporter": "python",
   "pygments_lexer": "ipython3",
   "version": "3.9.18"
  }
 },
 "nbformat": 4,
 "nbformat_minor": 4
}
